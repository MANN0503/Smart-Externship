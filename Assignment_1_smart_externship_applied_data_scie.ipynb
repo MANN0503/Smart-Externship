{
  "nbformat": 4,
  "nbformat_minor": 0,
  "metadata": {
    "colab": {
      "provenance": []
    },
    "kernelspec": {
      "name": "python3",
      "display_name": "Python 3"
    },
    "language_info": {
      "name": "python"
    }
  },
  "cells": [
    {
      "cell_type": "markdown",
      "source": [
        "Q1. Assign your Name to variable name and Age to variable age. Make a Python program that prints your name and age."
      ],
      "metadata": {
        "id": "x63bt8pFTmRa"
      }
    },
    {
      "cell_type": "code",
      "source": [
        "var = 'MANBIR KAUR'\n",
        "var"
      ],
      "metadata": {
        "colab": {
          "base_uri": "https://localhost:8080/",
          "height": 35
        },
        "id": "Y7PolTY0UB8l",
        "outputId": "dbff4232-dd0d-490b-cd96-d7269ea4ef4d"
      },
      "execution_count": 2,
      "outputs": [
        {
          "output_type": "execute_result",
          "data": {
            "text/plain": [
              "'MANBIR KAUR'"
            ],
            "application/vnd.google.colaboratory.intrinsic+json": {
              "type": "string"
            }
          },
          "metadata": {},
          "execution_count": 2
        }
      ]
    },
    {
      "cell_type": "code",
      "source": [
        "var1 = 20\n",
        "var1"
      ],
      "metadata": {
        "colab": {
          "base_uri": "https://localhost:8080/"
        },
        "id": "7e8TjTqsUPqD",
        "outputId": "b4c1873c-d7e0-4af7-e4dc-d2528763448a"
      },
      "execution_count": 4,
      "outputs": [
        {
          "output_type": "execute_result",
          "data": {
            "text/plain": [
              "20"
            ]
          },
          "metadata": {},
          "execution_count": 4
        }
      ]
    },
    {
      "cell_type": "code",
      "source": [
        "print('My name is',var,'and my age is', var1,'.')"
      ],
      "metadata": {
        "colab": {
          "base_uri": "https://localhost:8080/"
        },
        "id": "txEkIQy4UjLg",
        "outputId": "99f7387a-3910-4be7-bfef-068818337bab"
      },
      "execution_count": 13,
      "outputs": [
        {
          "output_type": "stream",
          "name": "stdout",
          "text": [
            "My name is MANBIR KAUR and my age is 20 .\n"
          ]
        }
      ]
    },
    {
      "cell_type": "markdown",
      "source": [
        "Q2. X=\"Datascience is used to extract meaningful insights.\"\n",
        "Split the string"
      ],
      "metadata": {
        "id": "j4yVSni6V_Ca"
      }
    },
    {
      "cell_type": "code",
      "source": [
        "X=\"Datascience is used to extract meaningful insights.\"\n",
        "X"
      ],
      "metadata": {
        "colab": {
          "base_uri": "https://localhost:8080/",
          "height": 35
        },
        "id": "dLtwiN5YVYox",
        "outputId": "1f40873b-53ec-423e-cd4a-16aa5aaee7ff"
      },
      "execution_count": 1,
      "outputs": [
        {
          "output_type": "execute_result",
          "data": {
            "text/plain": [
              "'Datascience is used to extract meaningful insights.'"
            ],
            "application/vnd.google.colaboratory.intrinsic+json": {
              "type": "string"
            }
          },
          "metadata": {},
          "execution_count": 1
        }
      ]
    },
    {
      "cell_type": "code",
      "source": [
        "X.split()"
      ],
      "metadata": {
        "colab": {
          "base_uri": "https://localhost:8080/"
        },
        "id": "VuN-Uo-oxGLG",
        "outputId": "cffb2c30-d389-49e9-bd78-801bb1a36798"
      },
      "execution_count": 2,
      "outputs": [
        {
          "output_type": "execute_result",
          "data": {
            "text/plain": [
              "['Datascience', 'is', 'used', 'to', 'extract', 'meaningful', 'insights.']"
            ]
          },
          "metadata": {},
          "execution_count": 2
        }
      ]
    },
    {
      "cell_type": "markdown",
      "source": [
        "Q3. Make a function that gives multiplication of two numbers."
      ],
      "metadata": {
        "id": "j9kxZ7DSxtEC"
      }
    },
    {
      "cell_type": "code",
      "source": [
        "num1=12\n",
        "num2=2\n",
        "num3 = num1 * num2\n",
        "num3"
      ],
      "metadata": {
        "colab": {
          "base_uri": "https://localhost:8080/"
        },
        "id": "9LexW4T3xjcV",
        "outputId": "bd46f6ec-a3b3-4ba2-a738-cbbfce288ae6"
      },
      "execution_count": 3,
      "outputs": [
        {
          "output_type": "execute_result",
          "data": {
            "text/plain": [
              "24"
            ]
          },
          "metadata": {},
          "execution_count": 3
        }
      ]
    },
    {
      "cell_type": "markdown",
      "source": [
        "Q4. Create a Dictionary of 5 States with their capitals. also print the keys and values.\n"
      ],
      "metadata": {
        "id": "niu4TYleyMHV"
      }
    },
    {
      "cell_type": "code",
      "source": [
        "Dictionary = {'States':['Madhya Pradesh','Maharashtra','Rajasthan','Tamil Nadu','Uttarakhand'],'Capital':['Bhopal','Mumbai','Jaipur','Chennai','Dehradun']}\n"
      ],
      "metadata": {
        "id": "jMGQcnFayFao"
      },
      "execution_count": 6,
      "outputs": []
    },
    {
      "cell_type": "code",
      "source": [
        "print(Dictionary)"
      ],
      "metadata": {
        "colab": {
          "base_uri": "https://localhost:8080/"
        },
        "id": "qMlSMm69ck3Z",
        "outputId": "3c95c9ed-e058-46d5-a774-72c66a3830ad"
      },
      "execution_count": 7,
      "outputs": [
        {
          "output_type": "stream",
          "name": "stdout",
          "text": [
            "{'States': ['Madhya Pradesh', 'Maharashtra', 'Rajasthan', 'Tamil Nadu', 'Uttarakhand'], 'Capital': ['Bhopal', 'Mumbai', 'Jaipur', 'Chennai', 'Dehradun']}\n"
          ]
        }
      ]
    },
    {
      "cell_type": "code",
      "source": [
        "Dictionary.keys()"
      ],
      "metadata": {
        "colab": {
          "base_uri": "https://localhost:8080/"
        },
        "id": "YmG9qaQDpshd",
        "outputId": "bcc7dc0b-80bd-462c-ecc2-6952771e1fbc"
      },
      "execution_count": 8,
      "outputs": [
        {
          "output_type": "execute_result",
          "data": {
            "text/plain": [
              "dict_keys(['States', 'Capital'])"
            ]
          },
          "metadata": {},
          "execution_count": 8
        }
      ]
    },
    {
      "cell_type": "code",
      "source": [
        "Dictionary.values()"
      ],
      "metadata": {
        "colab": {
          "base_uri": "https://localhost:8080/"
        },
        "id": "38Zf1A9Pc9Cb",
        "outputId": "34da2b91-8138-4efa-ed96-0ae53c00be5b"
      },
      "execution_count": 9,
      "outputs": [
        {
          "output_type": "execute_result",
          "data": {
            "text/plain": [
              "dict_values([['Madhya Pradesh', 'Maharashtra', 'Rajasthan', 'Tamil Nadu', 'Uttarakhand'], ['Bhopal', 'Mumbai', 'Jaipur', 'Chennai', 'Dehradun']])"
            ]
          },
          "metadata": {},
          "execution_count": 9
        }
      ]
    },
    {
      "cell_type": "markdown",
      "source": [
        "Q5. Create a list of 1000 numbers using range function.\n"
      ],
      "metadata": {
        "id": "SIsxNVHqqOg8"
      }
    },
    {
      "cell_type": "code",
      "source": [
        "import numpy as np\n",
        "np.arange(start = 1, stop = 1001)\n"
      ],
      "metadata": {
        "colab": {
          "base_uri": "https://localhost:8080/"
        },
        "id": "tu2YbxuesHM4",
        "outputId": "2f062e7e-297e-41e6-aa46-87e9b4345cd7"
      },
      "execution_count": 20,
      "outputs": [
        {
          "output_type": "execute_result",
          "data": {
            "text/plain": [
              "array([   1,    2,    3,    4,    5,    6,    7,    8,    9,   10,   11,\n",
              "         12,   13,   14,   15,   16,   17,   18,   19,   20,   21,   22,\n",
              "         23,   24,   25,   26,   27,   28,   29,   30,   31,   32,   33,\n",
              "         34,   35,   36,   37,   38,   39,   40,   41,   42,   43,   44,\n",
              "         45,   46,   47,   48,   49,   50,   51,   52,   53,   54,   55,\n",
              "         56,   57,   58,   59,   60,   61,   62,   63,   64,   65,   66,\n",
              "         67,   68,   69,   70,   71,   72,   73,   74,   75,   76,   77,\n",
              "         78,   79,   80,   81,   82,   83,   84,   85,   86,   87,   88,\n",
              "         89,   90,   91,   92,   93,   94,   95,   96,   97,   98,   99,\n",
              "        100,  101,  102,  103,  104,  105,  106,  107,  108,  109,  110,\n",
              "        111,  112,  113,  114,  115,  116,  117,  118,  119,  120,  121,\n",
              "        122,  123,  124,  125,  126,  127,  128,  129,  130,  131,  132,\n",
              "        133,  134,  135,  136,  137,  138,  139,  140,  141,  142,  143,\n",
              "        144,  145,  146,  147,  148,  149,  150,  151,  152,  153,  154,\n",
              "        155,  156,  157,  158,  159,  160,  161,  162,  163,  164,  165,\n",
              "        166,  167,  168,  169,  170,  171,  172,  173,  174,  175,  176,\n",
              "        177,  178,  179,  180,  181,  182,  183,  184,  185,  186,  187,\n",
              "        188,  189,  190,  191,  192,  193,  194,  195,  196,  197,  198,\n",
              "        199,  200,  201,  202,  203,  204,  205,  206,  207,  208,  209,\n",
              "        210,  211,  212,  213,  214,  215,  216,  217,  218,  219,  220,\n",
              "        221,  222,  223,  224,  225,  226,  227,  228,  229,  230,  231,\n",
              "        232,  233,  234,  235,  236,  237,  238,  239,  240,  241,  242,\n",
              "        243,  244,  245,  246,  247,  248,  249,  250,  251,  252,  253,\n",
              "        254,  255,  256,  257,  258,  259,  260,  261,  262,  263,  264,\n",
              "        265,  266,  267,  268,  269,  270,  271,  272,  273,  274,  275,\n",
              "        276,  277,  278,  279,  280,  281,  282,  283,  284,  285,  286,\n",
              "        287,  288,  289,  290,  291,  292,  293,  294,  295,  296,  297,\n",
              "        298,  299,  300,  301,  302,  303,  304,  305,  306,  307,  308,\n",
              "        309,  310,  311,  312,  313,  314,  315,  316,  317,  318,  319,\n",
              "        320,  321,  322,  323,  324,  325,  326,  327,  328,  329,  330,\n",
              "        331,  332,  333,  334,  335,  336,  337,  338,  339,  340,  341,\n",
              "        342,  343,  344,  345,  346,  347,  348,  349,  350,  351,  352,\n",
              "        353,  354,  355,  356,  357,  358,  359,  360,  361,  362,  363,\n",
              "        364,  365,  366,  367,  368,  369,  370,  371,  372,  373,  374,\n",
              "        375,  376,  377,  378,  379,  380,  381,  382,  383,  384,  385,\n",
              "        386,  387,  388,  389,  390,  391,  392,  393,  394,  395,  396,\n",
              "        397,  398,  399,  400,  401,  402,  403,  404,  405,  406,  407,\n",
              "        408,  409,  410,  411,  412,  413,  414,  415,  416,  417,  418,\n",
              "        419,  420,  421,  422,  423,  424,  425,  426,  427,  428,  429,\n",
              "        430,  431,  432,  433,  434,  435,  436,  437,  438,  439,  440,\n",
              "        441,  442,  443,  444,  445,  446,  447,  448,  449,  450,  451,\n",
              "        452,  453,  454,  455,  456,  457,  458,  459,  460,  461,  462,\n",
              "        463,  464,  465,  466,  467,  468,  469,  470,  471,  472,  473,\n",
              "        474,  475,  476,  477,  478,  479,  480,  481,  482,  483,  484,\n",
              "        485,  486,  487,  488,  489,  490,  491,  492,  493,  494,  495,\n",
              "        496,  497,  498,  499,  500,  501,  502,  503,  504,  505,  506,\n",
              "        507,  508,  509,  510,  511,  512,  513,  514,  515,  516,  517,\n",
              "        518,  519,  520,  521,  522,  523,  524,  525,  526,  527,  528,\n",
              "        529,  530,  531,  532,  533,  534,  535,  536,  537,  538,  539,\n",
              "        540,  541,  542,  543,  544,  545,  546,  547,  548,  549,  550,\n",
              "        551,  552,  553,  554,  555,  556,  557,  558,  559,  560,  561,\n",
              "        562,  563,  564,  565,  566,  567,  568,  569,  570,  571,  572,\n",
              "        573,  574,  575,  576,  577,  578,  579,  580,  581,  582,  583,\n",
              "        584,  585,  586,  587,  588,  589,  590,  591,  592,  593,  594,\n",
              "        595,  596,  597,  598,  599,  600,  601,  602,  603,  604,  605,\n",
              "        606,  607,  608,  609,  610,  611,  612,  613,  614,  615,  616,\n",
              "        617,  618,  619,  620,  621,  622,  623,  624,  625,  626,  627,\n",
              "        628,  629,  630,  631,  632,  633,  634,  635,  636,  637,  638,\n",
              "        639,  640,  641,  642,  643,  644,  645,  646,  647,  648,  649,\n",
              "        650,  651,  652,  653,  654,  655,  656,  657,  658,  659,  660,\n",
              "        661,  662,  663,  664,  665,  666,  667,  668,  669,  670,  671,\n",
              "        672,  673,  674,  675,  676,  677,  678,  679,  680,  681,  682,\n",
              "        683,  684,  685,  686,  687,  688,  689,  690,  691,  692,  693,\n",
              "        694,  695,  696,  697,  698,  699,  700,  701,  702,  703,  704,\n",
              "        705,  706,  707,  708,  709,  710,  711,  712,  713,  714,  715,\n",
              "        716,  717,  718,  719,  720,  721,  722,  723,  724,  725,  726,\n",
              "        727,  728,  729,  730,  731,  732,  733,  734,  735,  736,  737,\n",
              "        738,  739,  740,  741,  742,  743,  744,  745,  746,  747,  748,\n",
              "        749,  750,  751,  752,  753,  754,  755,  756,  757,  758,  759,\n",
              "        760,  761,  762,  763,  764,  765,  766,  767,  768,  769,  770,\n",
              "        771,  772,  773,  774,  775,  776,  777,  778,  779,  780,  781,\n",
              "        782,  783,  784,  785,  786,  787,  788,  789,  790,  791,  792,\n",
              "        793,  794,  795,  796,  797,  798,  799,  800,  801,  802,  803,\n",
              "        804,  805,  806,  807,  808,  809,  810,  811,  812,  813,  814,\n",
              "        815,  816,  817,  818,  819,  820,  821,  822,  823,  824,  825,\n",
              "        826,  827,  828,  829,  830,  831,  832,  833,  834,  835,  836,\n",
              "        837,  838,  839,  840,  841,  842,  843,  844,  845,  846,  847,\n",
              "        848,  849,  850,  851,  852,  853,  854,  855,  856,  857,  858,\n",
              "        859,  860,  861,  862,  863,  864,  865,  866,  867,  868,  869,\n",
              "        870,  871,  872,  873,  874,  875,  876,  877,  878,  879,  880,\n",
              "        881,  882,  883,  884,  885,  886,  887,  888,  889,  890,  891,\n",
              "        892,  893,  894,  895,  896,  897,  898,  899,  900,  901,  902,\n",
              "        903,  904,  905,  906,  907,  908,  909,  910,  911,  912,  913,\n",
              "        914,  915,  916,  917,  918,  919,  920,  921,  922,  923,  924,\n",
              "        925,  926,  927,  928,  929,  930,  931,  932,  933,  934,  935,\n",
              "        936,  937,  938,  939,  940,  941,  942,  943,  944,  945,  946,\n",
              "        947,  948,  949,  950,  951,  952,  953,  954,  955,  956,  957,\n",
              "        958,  959,  960,  961,  962,  963,  964,  965,  966,  967,  968,\n",
              "        969,  970,  971,  972,  973,  974,  975,  976,  977,  978,  979,\n",
              "        980,  981,  982,  983,  984,  985,  986,  987,  988,  989,  990,\n",
              "        991,  992,  993,  994,  995,  996,  997,  998,  999, 1000])"
            ]
          },
          "metadata": {},
          "execution_count": 20
        }
      ]
    },
    {
      "cell_type": "markdown",
      "source": [
        "Q6. Create an identity matrix of dimension 4 by 4."
      ],
      "metadata": {
        "id": "PP1LJ5sTwcfa"
      }
    },
    {
      "cell_type": "code",
      "source": [
        "import numpy as np\n",
        "m = np.eye(4)"
      ],
      "metadata": {
        "id": "U20DPZOGvcZ8"
      },
      "execution_count": 33,
      "outputs": []
    },
    {
      "cell_type": "code",
      "source": [
        "m"
      ],
      "metadata": {
        "colab": {
          "base_uri": "https://localhost:8080/"
        },
        "id": "2JAYKInxxhdE",
        "outputId": "4196060e-c7ff-431d-a08b-cc590072fa8c"
      },
      "execution_count": 34,
      "outputs": [
        {
          "output_type": "execute_result",
          "data": {
            "text/plain": [
              "array([[1., 0., 0., 0.],\n",
              "       [0., 1., 0., 0.],\n",
              "       [0., 0., 1., 0.],\n",
              "       [0., 0., 0., 1.]])"
            ]
          },
          "metadata": {},
          "execution_count": 34
        }
      ]
    },
    {
      "cell_type": "markdown",
      "source": [
        "Q7. Create a 3x3 matrix with values ranging from 1 to 9"
      ],
      "metadata": {
        "id": "rU3mOjgJx1jc"
      }
    },
    {
      "cell_type": "code",
      "source": [
        "import numpy as np\n",
        "r = np.arange(1,10).reshape(3,3)\n",
        "r"
      ],
      "metadata": {
        "colab": {
          "base_uri": "https://localhost:8080/"
        },
        "id": "DHC-0tEqxzO5",
        "outputId": "3fbbdfed-3373-49b6-901d-fd2314fa634f"
      },
      "execution_count": 32,
      "outputs": [
        {
          "output_type": "execute_result",
          "data": {
            "text/plain": [
              "array([[1, 2, 3],\n",
              "       [4, 5, 6],\n",
              "       [7, 8, 9]])"
            ]
          },
          "metadata": {},
          "execution_count": 32
        }
      ]
    },
    {
      "cell_type": "markdown",
      "source": [
        "Q8.Create 2 similar dimensional array and perform sum on them."
      ],
      "metadata": {
        "id": "KOEsmhdYyoKH"
      }
    },
    {
      "cell_type": "code",
      "source": [
        "arr1 = np.arange(0,11,3)\n",
        "arr1.ndim"
      ],
      "metadata": {
        "colab": {
          "base_uri": "https://localhost:8080/"
        },
        "id": "GgrjD2hayHRa",
        "outputId": "0b5cedd4-7548-42dc-a20f-fc6ddfde179c"
      },
      "execution_count": 37,
      "outputs": [
        {
          "output_type": "execute_result",
          "data": {
            "text/plain": [
              "1"
            ]
          },
          "metadata": {},
          "execution_count": 37
        }
      ]
    },
    {
      "cell_type": "code",
      "source": [
        "arr2 = np.arange(2,13,3)\n",
        "arr2.ndim"
      ],
      "metadata": {
        "colab": {
          "base_uri": "https://localhost:8080/"
        },
        "id": "2JCi6LBg0QUK",
        "outputId": "627008e6-455e-456a-a32e-1eeb6ba6c1c7"
      },
      "execution_count": 43,
      "outputs": [
        {
          "output_type": "execute_result",
          "data": {
            "text/plain": [
              "1"
            ]
          },
          "metadata": {},
          "execution_count": 43
        }
      ]
    },
    {
      "cell_type": "code",
      "source": [
        "arr1"
      ],
      "metadata": {
        "colab": {
          "base_uri": "https://localhost:8080/"
        },
        "id": "sSaSkukV0vjN",
        "outputId": "9872dec5-6756-4118-9350-68a9155dc571"
      },
      "execution_count": 39,
      "outputs": [
        {
          "output_type": "execute_result",
          "data": {
            "text/plain": [
              "array([0, 3, 6, 9])"
            ]
          },
          "metadata": {},
          "execution_count": 39
        }
      ]
    },
    {
      "cell_type": "code",
      "source": [
        "arr2"
      ],
      "metadata": {
        "colab": {
          "base_uri": "https://localhost:8080/"
        },
        "id": "x71Ym6Z_0xDh",
        "outputId": "cc3968df-e33a-4af9-9c4b-bfec28bb07b6"
      },
      "execution_count": 44,
      "outputs": [
        {
          "output_type": "execute_result",
          "data": {
            "text/plain": [
              "array([ 2,  5,  8, 11])"
            ]
          },
          "metadata": {},
          "execution_count": 44
        }
      ]
    },
    {
      "cell_type": "code",
      "source": [
        "arr3 = np.add(arr1,arr2)\n",
        "arr3"
      ],
      "metadata": {
        "colab": {
          "base_uri": "https://localhost:8080/"
        },
        "id": "Pc4iwBz80zCN",
        "outputId": "b94924f1-fbd7-4d2b-8f7d-5161c6c97a46"
      },
      "execution_count": 45,
      "outputs": [
        {
          "output_type": "execute_result",
          "data": {
            "text/plain": [
              "array([ 2,  8, 14, 20])"
            ]
          },
          "metadata": {},
          "execution_count": 45
        }
      ]
    },
    {
      "cell_type": "markdown",
      "source": [
        "Q9. Generate the series of dates from 1st Feb, 2023 to 1st March, 2023 (both inclusive)"
      ],
      "metadata": {
        "id": "eTmzWjYs1ST5"
      }
    },
    {
      "cell_type": "code",
      "source": [
        "import pandas as pd\n",
        "dRan1 = pd.date_range(start ='2-1-2023', end ='3-1-2023', freq ='24H')\n",
        "print(dRan1)"
      ],
      "metadata": {
        "colab": {
          "base_uri": "https://localhost:8080/"
        },
        "id": "ls5Sy3o00_8B",
        "outputId": "c6f139f5-9842-45b0-d3e8-2b2bec734348"
      },
      "execution_count": 48,
      "outputs": [
        {
          "output_type": "stream",
          "name": "stdout",
          "text": [
            "DatetimeIndex(['2023-02-01', '2023-02-02', '2023-02-03', '2023-02-04',\n",
            "               '2023-02-05', '2023-02-06', '2023-02-07', '2023-02-08',\n",
            "               '2023-02-09', '2023-02-10', '2023-02-11', '2023-02-12',\n",
            "               '2023-02-13', '2023-02-14', '2023-02-15', '2023-02-16',\n",
            "               '2023-02-17', '2023-02-18', '2023-02-19', '2023-02-20',\n",
            "               '2023-02-21', '2023-02-22', '2023-02-23', '2023-02-24',\n",
            "               '2023-02-25', '2023-02-26', '2023-02-27', '2023-02-28',\n",
            "               '2023-03-01'],\n",
            "              dtype='datetime64[ns]', freq='24H')\n"
          ]
        }
      ]
    },
    {
      "cell_type": "markdown",
      "source": [
        "Q10. Given a dictionary, convert it into corresponding dataframe and display it\n",
        "dictionary = {'Brand': ['Maruti', 'Renault', 'Hyndai'], 'Sales' : [250, 200, 240]}"
      ],
      "metadata": {
        "id": "0vfxzkn_3aUh"
      }
    },
    {
      "cell_type": "code",
      "source": [
        "dic =  {'Brand': ['Maruti', 'Renault', 'Hyndai'], 'Sales' : [250, 200, 240]}\n",
        "dic"
      ],
      "metadata": {
        "colab": {
          "base_uri": "https://localhost:8080/"
        },
        "id": "cXwHrevt3HMD",
        "outputId": "6e8066ac-9c24-4f1e-9f90-27840f9845d0"
      },
      "execution_count": 49,
      "outputs": [
        {
          "output_type": "execute_result",
          "data": {
            "text/plain": [
              "{'Brand': ['Maruti', 'Renault', 'Hyndai'], 'Sales': [250, 200, 240]}"
            ]
          },
          "metadata": {},
          "execution_count": 49
        }
      ]
    },
    {
      "cell_type": "code",
      "source": [
        "type(dic)"
      ],
      "metadata": {
        "colab": {
          "base_uri": "https://localhost:8080/"
        },
        "id": "fzkCe7Tm37JI",
        "outputId": "0713ba7b-3159-4764-e5fc-849b6d76ee66"
      },
      "execution_count": 50,
      "outputs": [
        {
          "output_type": "execute_result",
          "data": {
            "text/plain": [
              "dict"
            ]
          },
          "metadata": {},
          "execution_count": 50
        }
      ]
    },
    {
      "cell_type": "code",
      "source": [
        "dic = pd.DataFrame(dic)\n",
        "dic"
      ],
      "metadata": {
        "colab": {
          "base_uri": "https://localhost:8080/",
          "height": 143
        },
        "id": "LXOIgdtQ4ByV",
        "outputId": "dac34b6c-3490-4b29-ba20-2c78a78962dd"
      },
      "execution_count": 54,
      "outputs": [
        {
          "output_type": "execute_result",
          "data": {
            "text/plain": [
              "     Brand  Sales\n",
              "0   Maruti    250\n",
              "1  Renault    200\n",
              "2   Hyndai    240"
            ],
            "text/html": [
              "\n",
              "  <div id=\"df-0695213f-1e98-42ce-8567-b8a1415aea86\">\n",
              "    <div class=\"colab-df-container\">\n",
              "      <div>\n",
              "<style scoped>\n",
              "    .dataframe tbody tr th:only-of-type {\n",
              "        vertical-align: middle;\n",
              "    }\n",
              "\n",
              "    .dataframe tbody tr th {\n",
              "        vertical-align: top;\n",
              "    }\n",
              "\n",
              "    .dataframe thead th {\n",
              "        text-align: right;\n",
              "    }\n",
              "</style>\n",
              "<table border=\"1\" class=\"dataframe\">\n",
              "  <thead>\n",
              "    <tr style=\"text-align: right;\">\n",
              "      <th></th>\n",
              "      <th>Brand</th>\n",
              "      <th>Sales</th>\n",
              "    </tr>\n",
              "  </thead>\n",
              "  <tbody>\n",
              "    <tr>\n",
              "      <th>0</th>\n",
              "      <td>Maruti</td>\n",
              "      <td>250</td>\n",
              "    </tr>\n",
              "    <tr>\n",
              "      <th>1</th>\n",
              "      <td>Renault</td>\n",
              "      <td>200</td>\n",
              "    </tr>\n",
              "    <tr>\n",
              "      <th>2</th>\n",
              "      <td>Hyndai</td>\n",
              "      <td>240</td>\n",
              "    </tr>\n",
              "  </tbody>\n",
              "</table>\n",
              "</div>\n",
              "      <button class=\"colab-df-convert\" onclick=\"convertToInteractive('df-0695213f-1e98-42ce-8567-b8a1415aea86')\"\n",
              "              title=\"Convert this dataframe to an interactive table.\"\n",
              "              style=\"display:none;\">\n",
              "        \n",
              "  <svg xmlns=\"http://www.w3.org/2000/svg\" height=\"24px\"viewBox=\"0 0 24 24\"\n",
              "       width=\"24px\">\n",
              "    <path d=\"M0 0h24v24H0V0z\" fill=\"none\"/>\n",
              "    <path d=\"M18.56 5.44l.94 2.06.94-2.06 2.06-.94-2.06-.94-.94-2.06-.94 2.06-2.06.94zm-11 1L8.5 8.5l.94-2.06 2.06-.94-2.06-.94L8.5 2.5l-.94 2.06-2.06.94zm10 10l.94 2.06.94-2.06 2.06-.94-2.06-.94-.94-2.06-.94 2.06-2.06.94z\"/><path d=\"M17.41 7.96l-1.37-1.37c-.4-.4-.92-.59-1.43-.59-.52 0-1.04.2-1.43.59L10.3 9.45l-7.72 7.72c-.78.78-.78 2.05 0 2.83L4 21.41c.39.39.9.59 1.41.59.51 0 1.02-.2 1.41-.59l7.78-7.78 2.81-2.81c.8-.78.8-2.07 0-2.86zM5.41 20L4 18.59l7.72-7.72 1.47 1.35L5.41 20z\"/>\n",
              "  </svg>\n",
              "      </button>\n",
              "      \n",
              "  <style>\n",
              "    .colab-df-container {\n",
              "      display:flex;\n",
              "      flex-wrap:wrap;\n",
              "      gap: 12px;\n",
              "    }\n",
              "\n",
              "    .colab-df-convert {\n",
              "      background-color: #E8F0FE;\n",
              "      border: none;\n",
              "      border-radius: 50%;\n",
              "      cursor: pointer;\n",
              "      display: none;\n",
              "      fill: #1967D2;\n",
              "      height: 32px;\n",
              "      padding: 0 0 0 0;\n",
              "      width: 32px;\n",
              "    }\n",
              "\n",
              "    .colab-df-convert:hover {\n",
              "      background-color: #E2EBFA;\n",
              "      box-shadow: 0px 1px 2px rgba(60, 64, 67, 0.3), 0px 1px 3px 1px rgba(60, 64, 67, 0.15);\n",
              "      fill: #174EA6;\n",
              "    }\n",
              "\n",
              "    [theme=dark] .colab-df-convert {\n",
              "      background-color: #3B4455;\n",
              "      fill: #D2E3FC;\n",
              "    }\n",
              "\n",
              "    [theme=dark] .colab-df-convert:hover {\n",
              "      background-color: #434B5C;\n",
              "      box-shadow: 0px 1px 3px 1px rgba(0, 0, 0, 0.15);\n",
              "      filter: drop-shadow(0px 1px 2px rgba(0, 0, 0, 0.3));\n",
              "      fill: #FFFFFF;\n",
              "    }\n",
              "  </style>\n",
              "\n",
              "      <script>\n",
              "        const buttonEl =\n",
              "          document.querySelector('#df-0695213f-1e98-42ce-8567-b8a1415aea86 button.colab-df-convert');\n",
              "        buttonEl.style.display =\n",
              "          google.colab.kernel.accessAllowed ? 'block' : 'none';\n",
              "\n",
              "        async function convertToInteractive(key) {\n",
              "          const element = document.querySelector('#df-0695213f-1e98-42ce-8567-b8a1415aea86');\n",
              "          const dataTable =\n",
              "            await google.colab.kernel.invokeFunction('convertToInteractive',\n",
              "                                                     [key], {});\n",
              "          if (!dataTable) return;\n",
              "\n",
              "          const docLinkHtml = 'Like what you see? Visit the ' +\n",
              "            '<a target=\"_blank\" href=https://colab.research.google.com/notebooks/data_table.ipynb>data table notebook</a>'\n",
              "            + ' to learn more about interactive tables.';\n",
              "          element.innerHTML = '';\n",
              "          dataTable['output_type'] = 'display_data';\n",
              "          await google.colab.output.renderOutput(dataTable, element);\n",
              "          const docLink = document.createElement('div');\n",
              "          docLink.innerHTML = docLinkHtml;\n",
              "          element.appendChild(docLink);\n",
              "        }\n",
              "      </script>\n",
              "    </div>\n",
              "  </div>\n",
              "  "
            ]
          },
          "metadata": {},
          "execution_count": 54
        }
      ]
    }
  ]
}